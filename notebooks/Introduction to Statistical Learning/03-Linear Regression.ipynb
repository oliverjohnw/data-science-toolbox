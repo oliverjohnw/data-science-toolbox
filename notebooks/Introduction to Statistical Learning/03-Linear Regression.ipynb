{
 "cells": [
  {
   "cell_type": "markdown",
   "id": "927a07a5-838b-4ef3-a75a-9d9ba51f0516",
   "metadata": {},
   "source": [
    "# Chapter 3 - Linear Regression\n",
    "\n",
    "## Simple Linear Regression\n",
    "\n",
    "This is a very straightforward method for predicting a quantative response Y on the basis of a single predictor variable X. It assumes there is approximately a linear relationship between X and Y. The formula for this is: \n",
    "\n",
    "$$ Y = \\beta_{0} + \\beta_{0}{X} $$ \n",
    "\n",
    "<br>\n",
    "\n",
    "In this equation, $\\beta_{0}$ is the intercept and $\\beta_{1}$ is the slope. Together, these are known as the model *coefficients* or *parameters*. "
   ]
  },
  {
   "cell_type": "code",
   "execution_count": null,
   "id": "3e5a2781-31fa-4308-adec-61cf6b582de8",
   "metadata": {},
   "outputs": [],
   "source": []
  }
 ],
 "metadata": {
  "kernelspec": {
   "display_name": "Python 3 (ipykernel)",
   "language": "python",
   "name": "python3"
  },
  "language_info": {
   "codemirror_mode": {
    "name": "ipython",
    "version": 3
   },
   "file_extension": ".py",
   "mimetype": "text/x-python",
   "name": "python",
   "nbconvert_exporter": "python",
   "pygments_lexer": "ipython3",
   "version": "3.11.11"
  }
 },
 "nbformat": 4,
 "nbformat_minor": 5
}
