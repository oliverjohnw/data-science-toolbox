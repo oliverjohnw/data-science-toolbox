{
 "cells": [
  {
   "cell_type": "markdown",
   "id": "4457b87f-b60b-4b56-8c4f-3bb6ee1a3817",
   "metadata": {},
   "source": [
    "# Introduction to Statistical Learning\n",
    "\n",
    "Author: Gareth James, Daniela Witten, Trevor Hasite, Robert Tibshirani, Jonathan Taylor\n",
    "Published: 2023\n",
    "\n",
    "# Table of Contents\n",
    "1) ***Introduction***\n",
    "2) ***Statistical Learning***\n",
    "    - 2.1 What is Statistical Learning?\n",
    "        - 2.1.1 Why Estimate f?\n",
    "        - 2.1.2 How Do We Estimate f?\n",
    "        - 2.1.3 The Trade-Off Between Prediction Accuracy and Model Interpretability\n",
    "        - 2.1.4 Supervised Versus Unsupervised Learning\n",
    "        - 2.1.5 Regression Versus Classification Problems\n",
    "    - 2.2 Assesing Model Accuracy\n",
    "        - 2.2.1 Measuring the Quality of Fit\n",
    "        - 2.2.2 THe Bias-Variance Trade-Off\n",
    "        - 2.2.3 The Classification Setting\n",
    "    - 2.3 Exercises\n",
    "3) ***Linear Regression***\n",
    "4) ***Classification***\n",
    "5) ***Resampling Methods***\n",
    "6) ***Linear Model Selection and Regularization***\n",
    "7) ***Moving Beyond Linearity***\n",
    "8) ***Tree-Based Methods***\n",
    "9) ***Support Vector Machines***\n",
    "10) ***Deep Learning***\n",
    "11) ***Unsupervised Learning***\n",
    "12) ***Multiple Testing***\n",
    "\n",
    "# Preface\n",
    "\n",
    "Statistical learning refers to a set of tools for making sense of complex datasets. This book will focus more on the applications of the methods, and less on the mathematical details. "
   ]
  },
  {
   "cell_type": "code",
   "execution_count": null,
   "id": "23b4db92-046d-4c11-b833-28b3eb6c34f9",
   "metadata": {},
   "outputs": [],
   "source": []
  }
 ],
 "metadata": {
  "kernelspec": {
   "display_name": "Python 3 (ipykernel)",
   "language": "python",
   "name": "python3"
  },
  "language_info": {
   "codemirror_mode": {
    "name": "ipython",
    "version": 3
   },
   "file_extension": ".py",
   "mimetype": "text/x-python",
   "name": "python",
   "nbconvert_exporter": "python",
   "pygments_lexer": "ipython3",
   "version": "3.11.11"
  }
 },
 "nbformat": 4,
 "nbformat_minor": 5
}
