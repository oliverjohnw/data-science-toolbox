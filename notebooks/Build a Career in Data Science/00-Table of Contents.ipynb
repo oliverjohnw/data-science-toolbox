{
 "cells": [
  {
   "cell_type": "markdown",
   "id": "065e51e4-6bd3-4933-88ff-d1fc856f01d7",
   "metadata": {},
   "source": [
    "# Hands-On Machine Learning with Scikit-Learn, Keras, and Tensorflow\n",
    "\n",
    "Author: Emily Robinson + Jacqueline Nolis\n",
    "\n",
    "Published: 2020\n",
    "\n",
    "Edition: 1st\n",
    "\n",
    "## Part 1: Getting Started With Data Science\n",
    "1) What is Data Science?\n",
    "2) Data Science Companies\n",
    "3) Getting the Skills\n",
    "4) Building a Portfolio\n",
    "\n",
    "## Part 2: Finding Your Data Science Job\n",
    "5) The Search: Identifying the Right Job For You\n",
    "6) The Application: Resumes and Cover Letters\n",
    "7) The Interview: What to Expect and How To Handle It\n",
    "8) The Offer: Knowing What To Expect\n",
    "\n",
    "## Part 3: Settling Into Data Science\n",
    "9) The First Months On The Job\n",
    "10) Making An Effective Analysis\n",
    "11) Deploying a Model Into Production\n",
    "12) Working With Stakeholders\n",
    "\n",
    "## Part 4: Growing In Your Data Science Role\n",
    "13) When Your Project Fails\n",
    "14) Joining the Data Science Community\n",
    "15) Leaving Your Job Gracefully\n",
    "16) Moving Up The Ladder\n",
    "\n",
    "\n",
    "### Preface\n",
    "\n",
    "This book is meant to be a guide to career questions in data science, following the path that a person will take in the career. They start at the beginning of they journey: how to get basic DS skills and understand what jobs are actually like. Then they go through getting and job and getting settled in. They cover how to grow, and how to move up in your company - or to a new company. "
   ]
  },
  {
   "cell_type": "code",
   "execution_count": null,
   "id": "0e1f9f3f-430f-4312-8403-824fac5fc9f3",
   "metadata": {},
   "outputs": [],
   "source": []
  }
 ],
 "metadata": {
  "kernelspec": {
   "display_name": "Python 3 (ipykernel)",
   "language": "python",
   "name": "python3"
  },
  "language_info": {
   "codemirror_mode": {
    "name": "ipython",
    "version": 3
   },
   "file_extension": ".py",
   "mimetype": "text/x-python",
   "name": "python",
   "nbconvert_exporter": "python",
   "pygments_lexer": "ipython3",
   "version": "3.11.11"
  }
 },
 "nbformat": 4,
 "nbformat_minor": 5
}
